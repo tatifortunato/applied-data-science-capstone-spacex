{
 "cells": [
  {
   "cell_type": "markdown",
   "metadata": {},
   "source": [
    "<p style=\"text-align:center\">\n",
    "    <a href=\"https://skills.network\" target=\"_blank\">\n",
    "    <img src=\"https://cf-courses-data.s3.us.cloud-object-storage.appdomain.cloud/assets/logos/SN_web_lightmode.png\" width=\"200\" alt=\"Skills Network Logo\">\n",
    "    </a>\n",
    "</p>\n"
   ]
  },
  {
   "cell_type": "markdown",
   "metadata": {},
   "source": [
    "# **Space X  Falcon 9 First Stage Landing Prediction**\n"
   ]
  },
  {
   "cell_type": "markdown",
   "metadata": {},
   "source": [
    "## Web scraping Falcon 9 and Falcon Heavy Launches Records from Wikipedia\n"
   ]
  },
  {
   "cell_type": "markdown",
   "metadata": {},
   "source": [
    "Estimated time needed: **40** minutes\n"
   ]
  },
  {
   "cell_type": "markdown",
   "metadata": {},
   "source": [
    "In this lab, you will be performing web scraping to collect Falcon 9 historical launch records from a Wikipedia page titled `List of Falcon 9 and Falcon Heavy launches`\n",
    "\n",
    "https://en.wikipedia.org/wiki/List_of_Falcon_9_and_Falcon_Heavy_launches\n"
   ]
  },
  {
   "cell_type": "markdown",
   "metadata": {},
   "source": [
    "![](https://cf-courses-data.s3.us.cloud-object-storage.appdomain.cloud/IBM-DS0321EN-SkillsNetwork/labs/module_1_L2/images/Falcon9_rocket_family.svg)\n"
   ]
  },
  {
   "cell_type": "markdown",
   "metadata": {},
   "source": [
    "Falcon 9 first stage will land successfully\n"
   ]
  },
  {
   "cell_type": "markdown",
   "metadata": {},
   "source": [
    "![](https://cf-courses-data.s3.us.cloud-object-storage.appdomain.cloud/IBMDeveloperSkillsNetwork-DS0701EN-SkillsNetwork/api/Images/landing_1.gif)\n"
   ]
  },
  {
   "cell_type": "markdown",
   "metadata": {},
   "source": [
    "Several examples of an unsuccessful landing are shown here:\n"
   ]
  },
  {
   "cell_type": "markdown",
   "metadata": {},
   "source": [
    "![](https://cf-courses-data.s3.us.cloud-object-storage.appdomain.cloud/IBMDeveloperSkillsNetwork-DS0701EN-SkillsNetwork/api/Images/crash.gif)\n"
   ]
  },
  {
   "cell_type": "markdown",
   "metadata": {},
   "source": [
    "More specifically, the launch records are stored in a HTML table shown below:\n"
   ]
  },
  {
   "cell_type": "markdown",
   "metadata": {},
   "source": [
    "![](https://cf-courses-data.s3.us.cloud-object-storage.appdomain.cloud/IBM-DS0321EN-SkillsNetwork/labs/module_1_L2/images/falcon9-launches-wiki.png)\n"
   ]
  },
  {
   "cell_type": "markdown",
   "metadata": {},
   "source": [
    "  ## Objectives\n",
    "Web scrap Falcon 9 launch records with `BeautifulSoup`: \n",
    "- Extract a Falcon 9 launch records HTML table from Wikipedia\n",
    "- Parse the table and convert it into a Pandas data frame\n"
   ]
  },
  {
   "cell_type": "markdown",
   "metadata": {},
   "source": [
    "First let's import required packages for this lab\n"
   ]
  },
  {
   "cell_type": "code",
   "execution_count": 1,
   "metadata": {
    "tags": []
   },
   "outputs": [
    {
     "name": "stdout",
     "output_type": "stream",
     "text": [
      "Requirement already satisfied: beautifulsoup4 in /home/jupyterlab/conda/envs/python/lib/python3.7/site-packages (4.11.1)\n",
      "Requirement already satisfied: soupsieve>1.2 in /home/jupyterlab/conda/envs/python/lib/python3.7/site-packages (from beautifulsoup4) (2.3.2.post1)\n",
      "Requirement already satisfied: requests in /home/jupyterlab/conda/envs/python/lib/python3.7/site-packages (2.29.0)\n",
      "Requirement already satisfied: charset-normalizer<4,>=2 in /home/jupyterlab/conda/envs/python/lib/python3.7/site-packages (from requests) (3.1.0)\n",
      "Requirement already satisfied: idna<4,>=2.5 in /home/jupyterlab/conda/envs/python/lib/python3.7/site-packages (from requests) (3.4)\n",
      "Requirement already satisfied: urllib3<1.27,>=1.21.1 in /home/jupyterlab/conda/envs/python/lib/python3.7/site-packages (from requests) (1.26.15)\n",
      "Requirement already satisfied: certifi>=2017.4.17 in /home/jupyterlab/conda/envs/python/lib/python3.7/site-packages (from requests) (2023.5.7)\n"
     ]
    }
   ],
   "source": [
    "!pip3 install beautifulsoup4\n",
    "!pip3 install requests"
   ]
  },
  {
   "cell_type": "code",
   "execution_count": 2,
   "metadata": {
    "tags": []
   },
   "outputs": [],
   "source": [
    "import sys  # Provides access to system-specific parameters and functions, such as manipulating the Python runtime environment or handling command-line arguments.\n",
    "\n",
    "import requests  # Simplifies making HTTP requests in Python (like GET and POST). Commonly used to interact with APIs or download web content.\n",
    "\n",
    "from bs4 import BeautifulSoup  # A library used for parsing HTML and XML documents. It's helpful in web scraping for extracting data from web pages.\n",
    "\n",
    "import re  # Provides support for working with regular expressions in Python, useful for searching and manipulating strings based on specific patterns.\n",
    "\n",
    "import unicodedata  # Offers functions to work with Unicode data. It helps normalize, inspect, or manipulate Unicode text.\n",
    "\n",
    "import pandas as pd  # A powerful data manipulation and analysis library. It provides data structures like DataFrames, ideal for handling and analyzing structured data."
   ]
  },
  {
   "cell_type": "markdown",
   "metadata": {},
   "source": [
    "and we will provide some helper functions for you to process web scraped HTML table\n"
   ]
  },
  {
   "cell_type": "code",
   "execution_count": 3,
   "metadata": {
    "tags": []
   },
   "outputs": [],
   "source": [
    "def date_time(table_cells):\n",
    "    \"\"\"\n",
    "    This function returns the data and time from the HTML  table cell\n",
    "    Input: the  element of a table data cell extracts extra row\n",
    "    \"\"\"\n",
    "    return [data_time.strip() for data_time in list(table_cells.strings)][0:2]\n",
    "\n",
    "def booster_version(table_cells):\n",
    "    \"\"\"\n",
    "    This function returns the booster version from the HTML  table cell \n",
    "    Input: the  element of a table data cell extracts extra row\n",
    "    \"\"\"\n",
    "    out=''.join([booster_version for i,booster_version in enumerate( table_cells.strings) if i%2==0][0:-1])\n",
    "    return out\n",
    "\n",
    "def landing_status(table_cells):\n",
    "    \"\"\"\n",
    "    This function returns the landing status from the HTML table cell \n",
    "    Input: the  element of a table data cell extracts extra row\n",
    "    \"\"\"\n",
    "    out=[i for i in table_cells.strings][0]\n",
    "    return out\n",
    "\n",
    "\n",
    "def get_mass(table_cells):\n",
    "    mass=unicodedata.normalize(\"NFKD\", table_cells.text).strip()\n",
    "    if mass:\n",
    "        mass.find(\"kg\")\n",
    "        new_mass=mass[0:mass.find(\"kg\")+2]\n",
    "    else:\n",
    "        new_mass=0\n",
    "    return new_mass\n",
    "\n",
    "\n",
    "def extract_column_from_header(row):\n",
    "    \"\"\"\n",
    "    This function returns the landing status from the HTML table cell \n",
    "    Input: the  element of a table data cell extracts extra row\n",
    "    \"\"\"\n",
    "    if (row.br):\n",
    "        row.br.extract()\n",
    "    if row.a:\n",
    "        row.a.extract()\n",
    "    if row.sup:\n",
    "        row.sup.extract()\n",
    "        \n",
    "    colunm_name = ' '.join(row.contents)\n",
    "    \n",
    "    # Filter the digit and empty names\n",
    "    if not(colunm_name.strip().isdigit()):\n",
    "        colunm_name = colunm_name.strip()\n",
    "        return colunm_name    \n"
   ]
  },
  {
   "cell_type": "markdown",
   "metadata": {},
   "source": [
    "To keep the lab tasks consistent, you will be asked to scrape the data from a snapshot of the  `List of Falcon 9 and Falcon Heavy launches` Wikipage updated on\n",
    "`9th June 2021`\n"
   ]
  },
  {
   "cell_type": "code",
   "execution_count": 4,
   "metadata": {
    "tags": []
   },
   "outputs": [],
   "source": [
    "static_url = \"https://en.wikipedia.org/w/index.php?title=List_of_Falcon_9_and_Falcon_Heavy_launches&oldid=1027686922\""
   ]
  },
  {
   "cell_type": "markdown",
   "metadata": {},
   "source": [
    "Next, request the HTML page from the above URL and get a `response` object\n"
   ]
  },
  {
   "cell_type": "markdown",
   "metadata": {},
   "source": [
    "### TASK 1: Request the Falcon9 Launch Wiki page from its URL\n"
   ]
  },
  {
   "cell_type": "markdown",
   "metadata": {},
   "source": [
    "First, let's perform an HTTP GET method to request the Falcon9 Launch HTML page, as an HTTP response.\n"
   ]
  },
  {
   "cell_type": "code",
   "execution_count": 5,
   "metadata": {
    "tags": []
   },
   "outputs": [],
   "source": [
    "# use requests.get() method with the provided static_url\n",
    "# assign the response to a object\n",
    "data = requests.get(static_url).text"
   ]
  },
  {
   "cell_type": "markdown",
   "metadata": {},
   "source": [
    "Create a `BeautifulSoup` object from the HTML `response`\n"
   ]
  },
  {
   "cell_type": "code",
   "execution_count": 6,
   "metadata": {
    "tags": []
   },
   "outputs": [],
   "source": [
    "# Use BeautifulSoup() to create a BeautifulSoup object from a response text content\n",
    "soup = BeautifulSoup(data, \"html.parser\")"
   ]
  },
  {
   "cell_type": "markdown",
   "metadata": {},
   "source": [
    "Print the page title to verify if the `BeautifulSoup` object was created properly \n"
   ]
  },
  {
   "cell_type": "code",
   "execution_count": 7,
   "metadata": {
    "tags": []
   },
   "outputs": [
    {
     "data": {
      "text/plain": [
       "<title>List of Falcon 9 and Falcon Heavy launches - Wikipedia</title>"
      ]
     },
     "execution_count": 7,
     "metadata": {},
     "output_type": "execute_result"
    }
   ],
   "source": [
    "# Use soup.title attribute\n",
    "soup.title"
   ]
  },
  {
   "cell_type": "markdown",
   "metadata": {},
   "source": [
    "### TASK 2: Extract all column/variable names from the HTML table header\n"
   ]
  },
  {
   "cell_type": "markdown",
   "metadata": {},
   "source": [
    "Next, we want to collect all relevant column names from the HTML table header\n"
   ]
  },
  {
   "cell_type": "markdown",
   "metadata": {},
   "source": [
    "Let's try to find all tables on the wiki page first. If you need to refresh your memory about `BeautifulSoup`, please check the external reference link towards the end of this lab\n"
   ]
  },
  {
   "cell_type": "code",
   "execution_count": 8,
   "metadata": {
    "tags": []
   },
   "outputs": [],
   "source": [
    "# Use the find_all function in the BeautifulSoup object, with element type `table`\n",
    "# Assign the result to a list called `html_tables`\n",
    "html_tables=soup.find_all('tr')"
   ]
  },
  {
   "cell_type": "markdown",
   "metadata": {},
   "source": [
    "Starting from the third table is our target table contains the actual launch records.\n"
   ]
  },
  {
   "cell_type": "code",
   "execution_count": 9,
   "metadata": {
    "tags": []
   },
   "outputs": [
    {
     "name": "stdout",
     "output_type": "stream",
     "text": [
      "<tr>\n",
      "<th scope=\"col\">Flight No.\n",
      "</th>\n",
      "<th scope=\"col\">Date and<br/>time (<a href=\"/wiki/Coordinated_Universal_Time\" title=\"Coordinated Universal Time\">UTC</a>)\n",
      "</th>\n",
      "<th scope=\"col\"><a href=\"/wiki/List_of_Falcon_9_first-stage_boosters\" title=\"List of Falcon 9 first-stage boosters\">Version,<br/>Booster</a> <sup class=\"reference\" id=\"cite_ref-booster_11-0\"><a href=\"#cite_note-booster-11\"><span class=\"cite-bracket\">[</span>b<span class=\"cite-bracket\">]</span></a></sup>\n",
      "</th>\n",
      "<th scope=\"col\">Launch site\n",
      "</th>\n",
      "<th scope=\"col\">Payload<sup class=\"reference\" id=\"cite_ref-Dragon_12-0\"><a href=\"#cite_note-Dragon-12\"><span class=\"cite-bracket\">[</span>c<span class=\"cite-bracket\">]</span></a></sup>\n",
      "</th>\n",
      "<th scope=\"col\">Payload mass\n",
      "</th>\n",
      "<th scope=\"col\">Orbit\n",
      "</th>\n",
      "<th scope=\"col\">Customer\n",
      "</th>\n",
      "<th scope=\"col\">Launch<br/>outcome\n",
      "</th>\n",
      "<th scope=\"col\"><a href=\"/wiki/Falcon_9_first-stage_landing_tests\" title=\"Falcon 9 first-stage landing tests\">Booster<br/>landing</a>\n",
      "</th></tr>\n"
     ]
    }
   ],
   "source": [
    "# Let's print the third table and check its content\n",
    "first_launch_table = html_tables[2]\n",
    "print(first_launch_table)"
   ]
  },
  {
   "cell_type": "markdown",
   "metadata": {},
   "source": [
    "You should able to see the columns names embedded in the table header elements `<th>` as follows:\n"
   ]
  },
  {
   "cell_type": "markdown",
   "metadata": {},
   "source": [
    "```\n",
    "<tr>\n",
    "<th scope=\"col\">Flight No.\n",
    "</th>\n",
    "<th scope=\"col\">Date and<br/>time (<a href=\"/wiki/Coordinated_Universal_Time\" title=\"Coordinated Universal Time\">UTC</a>)\n",
    "</th>\n",
    "<th scope=\"col\"><a href=\"/wiki/List_of_Falcon_9_first-stage_boosters\" title=\"List of Falcon 9 first-stage boosters\">Version,<br/>Booster</a> <sup class=\"reference\" id=\"cite_ref-booster_11-0\"><a href=\"#cite_note-booster-11\">[b]</a></sup>\n",
    "</th>\n",
    "<th scope=\"col\">Launch site\n",
    "</th>\n",
    "<th scope=\"col\">Payload<sup class=\"reference\" id=\"cite_ref-Dragon_12-0\"><a href=\"#cite_note-Dragon-12\">[c]</a></sup>\n",
    "</th>\n",
    "<th scope=\"col\">Payload mass\n",
    "</th>\n",
    "<th scope=\"col\">Orbit\n",
    "</th>\n",
    "<th scope=\"col\">Customer\n",
    "</th>\n",
    "<th scope=\"col\">Launch<br/>outcome\n",
    "</th>\n",
    "<th scope=\"col\"><a href=\"/wiki/Falcon_9_first-stage_landing_tests\" title=\"Falcon 9 first-stage landing tests\">Booster<br/>landing</a>\n",
    "</th></tr>\n",
    "```\n"
   ]
  },
  {
   "cell_type": "markdown",
   "metadata": {},
   "source": [
    "Next, we just need to iterate through the `<th>` elements and apply the provided `extract_column_from_header()` to extract column name one by one\n"
   ]
  },
  {
   "cell_type": "code",
   "execution_count": 10,
   "metadata": {
    "tags": []
   },
   "outputs": [],
   "source": [
    "column_names = []\n",
    "\n",
    "# Assuming first_launch_table contains the HTML table and extract_column_from_header() is defined\n",
    "# Apply find_all() to get all <th> elements from the table\n",
    "th_elements = first_launch_table.find_all('th')\n",
    "\n",
    "# Iterate through each <th> element\n",
    "for th in th_elements:\n",
    "    # Extract column name using the provided extract_column_from_header function\n",
    "    column_name = extract_column_from_header(th)\n",
    "    \n",
    "    # Check if the column name is not None and has a length greater than 0\n",
    "    if column_name is not None and len(column_name) > 0:\n",
    "        # Append the column name to the column_names list\n",
    "        column_names.append(column_name)\n",
    "\n",
    "# Now column_names contains the list of non-empty column names"
   ]
  },
  {
   "cell_type": "markdown",
   "metadata": {},
   "source": [
    "Check the extracted column names\n"
   ]
  },
  {
   "cell_type": "code",
   "execution_count": 11,
   "metadata": {
    "tags": []
   },
   "outputs": [
    {
     "name": "stdout",
     "output_type": "stream",
     "text": [
      "['Flight No.', 'Date and time ( )', 'Launch site', 'Payload', 'Payload mass', 'Orbit', 'Customer', 'Launch outcome']\n"
     ]
    }
   ],
   "source": [
    "print(column_names)"
   ]
  },
  {
   "cell_type": "markdown",
   "metadata": {},
   "source": [
    "## TASK 3: Create a data frame by parsing the launch HTML tables\n"
   ]
  },
  {
   "cell_type": "markdown",
   "metadata": {},
   "source": [
    "We will create an empty dictionary with keys from the extracted column names in the previous task. Later, this dictionary will be converted into a Pandas dataframe\n"
   ]
  },
  {
   "cell_type": "code",
   "execution_count": 14,
   "metadata": {
    "tags": []
   },
   "outputs": [],
   "source": [
    "launch_dict= dict.fromkeys(column_names)\n",
    "\n",
    "# Remove an irrelvant column\n",
    "del launch_dict['Date and time ( )']\n",
    "\n",
    "# Let's initial the launch_dict with each value to be an empty list\n",
    "launch_dict['Flight No.'] = []\n",
    "launch_dict['Launch site'] = []\n",
    "launch_dict['Payload'] = []\n",
    "launch_dict['Payload mass'] = []\n",
    "launch_dict['Orbit'] = []\n",
    "launch_dict['Customer'] = []\n",
    "launch_dict['Launch outcome'] = []\n",
    "# Added some new columns\n",
    "launch_dict['Version Booster']=[]\n",
    "launch_dict['Booster landing']=[]\n",
    "launch_dict['Date']=[]\n",
    "launch_dict['Time']=[]"
   ]
  },
  {
   "cell_type": "markdown",
   "metadata": {},
   "source": [
    "Next, we just need to fill up the `launch_dict` with launch records extracted from table rows.\n"
   ]
  },
  {
   "cell_type": "markdown",
   "metadata": {},
   "source": [
    "Usually, HTML tables in Wiki pages are likely to contain unexpected annotations and other types of noises, such as reference links `B0004.1[8]`, missing values `N/A [e]`, inconsistent formatting, etc.\n"
   ]
  },
  {
   "cell_type": "markdown",
   "metadata": {},
   "source": [
    "To simplify the parsing process, we have provided an incomplete code snippet below to help you to fill up the `launch_dict`. Please complete the following code snippet with TODOs or you can choose to write your own logic to parse all launch tables:\n"
   ]
  },
  {
   "cell_type": "code",
   "execution_count": 16,
   "metadata": {
    "tags": []
   },
   "outputs": [],
   "source": [
    "extracted_row = 0\n",
    "launch_dict = {}  # Initialize the dictionary to store launch data\n",
    "\n",
    "# Extract each table\n",
    "for table_number, table in enumerate(soup.find_all('table', \"wikitable plainrowheaders collapsible\")):\n",
    "    # Get table rows\n",
    "    for rows in table.find_all(\"tr\"):\n",
    "        # Check if the first table heading (th) is a number corresponding to launch number\n",
    "        if rows.th:\n",
    "            if rows.th.string:\n",
    "                flight_number = rows.th.string.strip()\n",
    "                flag = flight_number.isdigit()  # Check if flight_number is a digit\n",
    "        else:\n",
    "            flag = False\n",
    "        \n",
    "        # Get table elements (td cells)\n",
    "        row = rows.find_all('td')\n",
    "        \n",
    "        # If the flight number is valid, process the row\n",
    "        if flag:\n",
    "            extracted_row += 1\n",
    "            \n",
    "            # Append the flight_number into launch_dict with key `Flight No.`\n",
    "            launch_dict[extracted_row] = {'Flight No.': flight_number}\n",
    "            \n",
    "            # Date and Time\n",
    "            datatimelist = date_time(row[0])\n",
    "            \n",
    "            # Append the date into launch_dict with key `Date`\n",
    "            date = datatimelist[0].strip(',')\n",
    "            launch_dict[extracted_row]['Date'] = date\n",
    "            \n",
    "            # Append the time into launch_dict with key `Time`\n",
    "            time = datatimelist[1]\n",
    "            launch_dict[extracted_row]['Time'] = time\n",
    "            \n",
    "            # Booster version\n",
    "            bv = booster_version(row[1])\n",
    "            if not(bv):\n",
    "                bv = row[1].a.string\n",
    "            launch_dict[extracted_row]['Version Booster'] = bv\n",
    "            \n",
    "            # Launch Site\n",
    "            launch_site = row[2].a.string\n",
    "            launch_dict[extracted_row]['Launch Site'] = launch_site\n",
    "            \n",
    "            # Payload\n",
    "            payload = row[3].a.string\n",
    "            launch_dict[extracted_row]['Payload'] = payload\n",
    "            \n",
    "            # Payload Mass\n",
    "            payload_mass = get_mass(row[4])\n",
    "            launch_dict[extracted_row]['Payload mass'] = payload_mass\n",
    "            \n",
    "            # Orbit\n",
    "            orbit = row[5].a.string\n",
    "            launch_dict[extracted_row]['Orbit'] = orbit\n",
    "            \n",
    "            # Customer\n",
    "            if row[6].a:  # Check if <a> tag exists\n",
    "                customer = row[6].a.string\n",
    "            else:\n",
    "                customer = None  # Handle the case where there is no customer data\n",
    "            launch_dict[extracted_row]['Customer'] = customer\n",
    "\n",
    "            \n",
    "            # Launch outcome\n",
    "            launch_outcome = list(row[7].strings)[0]\n",
    "            launch_dict[extracted_row]['Launch outcome'] = launch_outcome\n",
    "            \n",
    "            # Booster landing\n",
    "            booster_landing = landing_status(row[8])\n",
    "            launch_dict[extracted_row]['Booster landing'] = booster_landing\n"
   ]
  },
  {
   "cell_type": "markdown",
   "metadata": {},
   "source": [
    "After you have fill in the parsed launch record values into `launch_dict`, you can create a dataframe from it.\n"
   ]
  },
  {
   "cell_type": "code",
   "execution_count": 17,
   "metadata": {
    "tags": []
   },
   "outputs": [],
   "source": [
    "df= pd.DataFrame({ key:pd.Series(value) for key, value in launch_dict.items() })"
   ]
  },
  {
   "cell_type": "code",
   "execution_count": 18,
   "metadata": {
    "tags": []
   },
   "outputs": [
    {
     "data": {
      "text/html": [
       "<div>\n",
       "<style scoped>\n",
       "    .dataframe tbody tr th:only-of-type {\n",
       "        vertical-align: middle;\n",
       "    }\n",
       "\n",
       "    .dataframe tbody tr th {\n",
       "        vertical-align: top;\n",
       "    }\n",
       "\n",
       "    .dataframe thead th {\n",
       "        text-align: right;\n",
       "    }\n",
       "</style>\n",
       "<table border=\"1\" class=\"dataframe\">\n",
       "  <thead>\n",
       "    <tr style=\"text-align: right;\">\n",
       "      <th></th>\n",
       "      <th>1</th>\n",
       "      <th>2</th>\n",
       "      <th>3</th>\n",
       "      <th>4</th>\n",
       "      <th>5</th>\n",
       "      <th>6</th>\n",
       "      <th>7</th>\n",
       "      <th>8</th>\n",
       "      <th>9</th>\n",
       "      <th>10</th>\n",
       "      <th>...</th>\n",
       "      <th>112</th>\n",
       "      <th>113</th>\n",
       "      <th>114</th>\n",
       "      <th>115</th>\n",
       "      <th>116</th>\n",
       "      <th>117</th>\n",
       "      <th>118</th>\n",
       "      <th>119</th>\n",
       "      <th>120</th>\n",
       "      <th>121</th>\n",
       "    </tr>\n",
       "  </thead>\n",
       "  <tbody>\n",
       "    <tr>\n",
       "      <th>Flight No.</th>\n",
       "      <td>1</td>\n",
       "      <td>2</td>\n",
       "      <td>3</td>\n",
       "      <td>4</td>\n",
       "      <td>5</td>\n",
       "      <td>6</td>\n",
       "      <td>7</td>\n",
       "      <td>8</td>\n",
       "      <td>9</td>\n",
       "      <td>10</td>\n",
       "      <td>...</td>\n",
       "      <td>112</td>\n",
       "      <td>113</td>\n",
       "      <td>114</td>\n",
       "      <td>115</td>\n",
       "      <td>116</td>\n",
       "      <td>117</td>\n",
       "      <td>118</td>\n",
       "      <td>119</td>\n",
       "      <td>120</td>\n",
       "      <td>121</td>\n",
       "    </tr>\n",
       "    <tr>\n",
       "      <th>Date</th>\n",
       "      <td>4 June 2010</td>\n",
       "      <td>8 December 2010</td>\n",
       "      <td>22 May 2012</td>\n",
       "      <td>8 October 2012</td>\n",
       "      <td>1 March 2013</td>\n",
       "      <td>29 September 2013</td>\n",
       "      <td>3 December 2013</td>\n",
       "      <td>6 January 2014</td>\n",
       "      <td>18 April 2014</td>\n",
       "      <td>14 July 2014</td>\n",
       "      <td>...</td>\n",
       "      <td>24 March 2021</td>\n",
       "      <td>7 April 2021</td>\n",
       "      <td>23 April 2021</td>\n",
       "      <td>29 April 2021</td>\n",
       "      <td>4 May 2021</td>\n",
       "      <td>9 May 2021</td>\n",
       "      <td>15 May 2021</td>\n",
       "      <td>26 May 2021</td>\n",
       "      <td>3 June 2021</td>\n",
       "      <td>6 June 2021</td>\n",
       "    </tr>\n",
       "    <tr>\n",
       "      <th>Time</th>\n",
       "      <td>18:45</td>\n",
       "      <td>15:43</td>\n",
       "      <td>07:44</td>\n",
       "      <td>00:35</td>\n",
       "      <td>15:10</td>\n",
       "      <td>16:00</td>\n",
       "      <td>22:41</td>\n",
       "      <td>22:06</td>\n",
       "      <td>19:25</td>\n",
       "      <td>15:15</td>\n",
       "      <td>...</td>\n",
       "      <td>08:28</td>\n",
       "      <td>16:34</td>\n",
       "      <td>9:49</td>\n",
       "      <td>03:44</td>\n",
       "      <td>19:01</td>\n",
       "      <td>06:42</td>\n",
       "      <td>22:56</td>\n",
       "      <td>18:59</td>\n",
       "      <td>17:29</td>\n",
       "      <td>04:26</td>\n",
       "    </tr>\n",
       "    <tr>\n",
       "      <th>Version Booster</th>\n",
       "      <td>F9 v1.07B0003.18</td>\n",
       "      <td>F9 v1.07B0004.18</td>\n",
       "      <td>F9 v1.07B0005.18</td>\n",
       "      <td>F9 v1.07B0006.18</td>\n",
       "      <td>F9 v1.07B0007.18</td>\n",
       "      <td>F9 v1.17B10038</td>\n",
       "      <td>F9 v1.1</td>\n",
       "      <td>F9 v1.1</td>\n",
       "      <td>F9 v1.1</td>\n",
       "      <td>F9 v1.1</td>\n",
       "      <td>...</td>\n",
       "      <td>F9 B5B1060.6643</td>\n",
       "      <td>F9 B5 ♺</td>\n",
       "      <td>F9 B5B1061.2647</td>\n",
       "      <td>F9 B5B1060.7652</td>\n",
       "      <td>F9 B5B1049.9655</td>\n",
       "      <td>F9 B5B1051.10657</td>\n",
       "      <td>F9 B5B1058.8660</td>\n",
       "      <td>F9 B5B1063.2665</td>\n",
       "      <td>F9 B5B1067.1668</td>\n",
       "      <td>F9 B5</td>\n",
       "    </tr>\n",
       "    <tr>\n",
       "      <th>Launch Site</th>\n",
       "      <td>CCAFS</td>\n",
       "      <td>CCAFS</td>\n",
       "      <td>CCAFS</td>\n",
       "      <td>CCAFS</td>\n",
       "      <td>CCAFS</td>\n",
       "      <td>VAFB</td>\n",
       "      <td>CCAFS</td>\n",
       "      <td>CCAFS</td>\n",
       "      <td>Cape Canaveral</td>\n",
       "      <td>Cape Canaveral</td>\n",
       "      <td>...</td>\n",
       "      <td>CCSFS</td>\n",
       "      <td>CCSFS</td>\n",
       "      <td>KSC</td>\n",
       "      <td>CCSFS</td>\n",
       "      <td>KSC</td>\n",
       "      <td>CCSFS</td>\n",
       "      <td>KSC</td>\n",
       "      <td>CCSFS</td>\n",
       "      <td>KSC</td>\n",
       "      <td>CCSFS</td>\n",
       "    </tr>\n",
       "  </tbody>\n",
       "</table>\n",
       "<p>5 rows × 121 columns</p>\n",
       "</div>"
      ],
      "text/plain": [
       "                              1                 2                 3    \\\n",
       "Flight No.                      1                 2                 3   \n",
       "Date                  4 June 2010   8 December 2010       22 May 2012   \n",
       "Time                        18:45             15:43             07:44   \n",
       "Version Booster  F9 v1.07B0003.18  F9 v1.07B0004.18  F9 v1.07B0005.18   \n",
       "Launch Site                 CCAFS             CCAFS             CCAFS   \n",
       "\n",
       "                              4                 5                  6    \\\n",
       "Flight No.                      4                 5                  6   \n",
       "Date               8 October 2012      1 March 2013  29 September 2013   \n",
       "Time                        00:35             15:10              16:00   \n",
       "Version Booster  F9 v1.07B0006.18  F9 v1.07B0007.18     F9 v1.17B10038   \n",
       "Launch Site                 CCAFS             CCAFS               VAFB   \n",
       "\n",
       "                             7               8               9    \\\n",
       "Flight No.                     7               8               9   \n",
       "Date             3 December 2013  6 January 2014   18 April 2014   \n",
       "Time                       22:41           22:06           19:25   \n",
       "Version Booster          F9 v1.1         F9 v1.1         F9 v1.1   \n",
       "Launch Site                CCAFS           CCAFS  Cape Canaveral   \n",
       "\n",
       "                            10   ...              112           113  \\\n",
       "Flight No.                   10  ...              112           113   \n",
       "Date               14 July 2014  ...    24 March 2021  7 April 2021   \n",
       "Time                      15:15  ...            08:28         16:34   \n",
       "Version Booster         F9 v1.1  ...  F9 B5B1060.6643       F9 B5 ♺   \n",
       "Launch Site      Cape Canaveral  ...            CCSFS         CCSFS   \n",
       "\n",
       "                             114              115              116  \\\n",
       "Flight No.                   114              115              116   \n",
       "Date               23 April 2021    29 April 2021       4 May 2021   \n",
       "Time                        9:49            03:44            19:01   \n",
       "Version Booster  F9 B5B1061.2647  F9 B5B1060.7652  F9 B5B1049.9655   \n",
       "Launch Site                  KSC            CCSFS              KSC   \n",
       "\n",
       "                              117              118              119  \\\n",
       "Flight No.                    117              118              119   \n",
       "Date                   9 May 2021      15 May 2021      26 May 2021   \n",
       "Time                        06:42            22:56            18:59   \n",
       "Version Booster  F9 B5B1051.10657  F9 B5B1058.8660  F9 B5B1063.2665   \n",
       "Launch Site                 CCSFS              KSC            CCSFS   \n",
       "\n",
       "                             120          121  \n",
       "Flight No.                   120          121  \n",
       "Date                 3 June 2021  6 June 2021  \n",
       "Time                       17:29        04:26  \n",
       "Version Booster  F9 B5B1067.1668        F9 B5  \n",
       "Launch Site                  KSC        CCSFS  \n",
       "\n",
       "[5 rows x 121 columns]"
      ]
     },
     "execution_count": 18,
     "metadata": {},
     "output_type": "execute_result"
    }
   ],
   "source": [
    "df.head()"
   ]
  },
  {
   "cell_type": "markdown",
   "metadata": {},
   "source": [
    "We can now export it to a <b>CSV</b> for the next section, but to make the answers consistent and in case you have difficulties finishing this lab. \n",
    "\n",
    "Following labs will be using a provided dataset to make each lab independent. \n"
   ]
  },
  {
   "cell_type": "markdown",
   "metadata": {},
   "source": [
    "<code>df.to_csv('spacex_web_scraped.csv', index=False)</code>\n"
   ]
  },
  {
   "cell_type": "markdown",
   "metadata": {},
   "source": [
    "## Authors\n"
   ]
  },
  {
   "cell_type": "markdown",
   "metadata": {},
   "source": [
    "<a href=\"https://www.linkedin.com/in/yan-luo-96288783/\">Yan Luo</a>\n"
   ]
  },
  {
   "cell_type": "markdown",
   "metadata": {},
   "source": [
    "<a href=\"https://www.linkedin.com/in/nayefaboutayoun/\">Nayef Abou Tayoun</a>\n"
   ]
  },
  {
   "cell_type": "markdown",
   "metadata": {},
   "source": [
    "<!--\n",
    "## Change Log\n",
    "-->\n"
   ]
  },
  {
   "cell_type": "markdown",
   "metadata": {},
   "source": [
    "<!--\n",
    "| Date (YYYY-MM-DD) | Version | Changed By | Change Description      |\n",
    "| ----------------- | ------- | ---------- | ----------------------- |\n",
    "| 2021-06-09        | 1.0     | Yan Luo    | Tasks updates           |\n",
    "| 2020-11-10        | 1.0     | Nayef      | Created the initial version |\n",
    "-->\n"
   ]
  },
  {
   "cell_type": "markdown",
   "metadata": {},
   "source": [
    "Copyright © 2021 IBM Corporation. All rights reserved.\n"
   ]
  }
 ],
 "metadata": {
  "kernelspec": {
   "display_name": "Python",
   "language": "python",
   "name": "conda-env-python-py"
  },
  "language_info": {
   "codemirror_mode": {
    "name": "ipython",
    "version": 3
   },
   "file_extension": ".py",
   "mimetype": "text/x-python",
   "name": "python",
   "nbconvert_exporter": "python",
   "pygments_lexer": "ipython3",
   "version": "3.7.12"
  },
  "prev_pub_hash": "64f1b0aac408997185c47caba18730e0028b75e7934a0e5bf0ae73c5cb7ba677"
 },
 "nbformat": 4,
 "nbformat_minor": 4
}
